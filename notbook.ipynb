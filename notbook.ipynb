{
 "metadata": {
  "language_info": {
   "codemirror_mode": {
    "name": "ipython",
    "version": 3
   },
   "file_extension": ".py",
   "mimetype": "text/x-python",
   "name": "python",
   "nbconvert_exporter": "python",
   "pygments_lexer": "ipython3",
   "version": "3.9.1-final"
  },
  "orig_nbformat": 2,
  "kernelspec": {
   "name": "python3",
   "display_name": "Python 3.9.1 64-bit (conda)",
   "metadata": {
    "interpreter": {
     "hash": "d85c7c6d6957aebbfceaf0a395b953869887519ccaad223fc97c99aae8dead4d"
    }
   }
  }
 },
 "nbformat": 4,
 "nbformat_minor": 2,
 "cells": [
  {
   "cell_type": "code",
   "execution_count": 10,
   "metadata": {},
   "outputs": [
    {
     "output_type": "stream",
     "name": "stdout",
     "text": [
      "Requirement already satisfied: pandas in c:\\users\\gener\\anaconda3\\envs\\r-tutorial\\lib\\site-packages (1.2.2)\nRequirement already satisfied: numpy>=1.16.5 in c:\\users\\gener\\anaconda3\\envs\\r-tutorial\\lib\\site-packages (from pandas) (1.20.1)\nRequirement already satisfied: pytz>=2017.3 in c:\\users\\gener\\anaconda3\\envs\\r-tutorial\\lib\\site-packages (from pandas) (2021.1)\nRequirement already satisfied: python-dateutil>=2.7.3 in c:\\users\\gener\\anaconda3\\envs\\r-tutorial\\lib\\site-packages (from pandas) (2.8.1)\nRequirement already satisfied: six>=1.5 in c:\\users\\gener\\anaconda3\\envs\\r-tutorial\\lib\\site-packages (from python-dateutil>=2.7.3->pandas) (1.15.0)\nNote: you may need to restart the kernel to use updated packages.\n"
     ]
    }
   ],
   "source": [
    "pip install pandas"
   ]
  },
  {
   "cell_type": "code",
   "execution_count": 27,
   "metadata": {},
   "outputs": [],
   "source": [
    "import pandas as pd\n",
    "import json\n",
    "from collections import Counter"
   ]
  },
  {
   "cell_type": "code",
   "execution_count": 146,
   "metadata": {},
   "outputs": [
    {
     "output_type": "execute_result",
     "data": {
      "text/plain": [
       "   PersonID       Date         Time HHState Zipcode  Sex Age  HHsize  Kids  \\\n",
       "0        70  5/26/2020  11:37:40 AM      CO   80403    1  35     3.0   1.0   \n",
       "1       353  5/27/2020  12:33:08 PM      MI   48189    2  54     2.0   1.0   \n",
       "2        24   5/8/2020   7:24:04 AM      CA   92127    2  35     5.0   3.0   \n",
       "3       287  5/17/2020   4:27:42 PM      MD   21210    2  57     3.0   1.0   \n",
       "4       256   5/8/2020   1:58:05 PM      MD   20781    2  24     3.0   0.0   \n",
       "\n",
       "   Auto_own  ...  Commute_min  PhyAc_Before  Exe_Before  PhyAc_After  \\\n",
       "0       2.0  ...         15.0           3.0           3            4   \n",
       "1       2.0  ...         60.0           3.0           4            4   \n",
       "2       3.0  ...         15.0           3.0           3            2   \n",
       "3       2.0  ...         60.0           4.0           4            2   \n",
       "4       3.0  ...         20.0           2.0           2            3   \n",
       "\n",
       "   Exe_After  Groc_Shp  Outside_Ac  \\\n",
       "0          6         4           4   \n",
       "1          6         4           4   \n",
       "2          6         4           1   \n",
       "3          6         4           1   \n",
       "4          6         4           1   \n",
       "\n",
       "                                        Outside_Purp  ONL_SHP  ONL_SHP_AFTR  \n",
       "0                                                NaN        2            -8  \n",
       "1  I go to hiking at a state park at least 3 time...        2            -8  \n",
       "2                                                NaN        2            -8  \n",
       "3                                                NaN        2            -8  \n",
       "4                                                NaN        2             2  \n",
       "\n",
       "[5 rows x 29 columns]"
      ],
      "text/html": "<div>\n<style scoped>\n    .dataframe tbody tr th:only-of-type {\n        vertical-align: middle;\n    }\n\n    .dataframe tbody tr th {\n        vertical-align: top;\n    }\n\n    .dataframe thead th {\n        text-align: right;\n    }\n</style>\n<table border=\"1\" class=\"dataframe\">\n  <thead>\n    <tr style=\"text-align: right;\">\n      <th></th>\n      <th>PersonID</th>\n      <th>Date</th>\n      <th>Time</th>\n      <th>HHState</th>\n      <th>Zipcode</th>\n      <th>Sex</th>\n      <th>Age</th>\n      <th>HHsize</th>\n      <th>Kids</th>\n      <th>Auto_own</th>\n      <th>...</th>\n      <th>Commute_min</th>\n      <th>PhyAc_Before</th>\n      <th>Exe_Before</th>\n      <th>PhyAc_After</th>\n      <th>Exe_After</th>\n      <th>Groc_Shp</th>\n      <th>Outside_Ac</th>\n      <th>Outside_Purp</th>\n      <th>ONL_SHP</th>\n      <th>ONL_SHP_AFTR</th>\n    </tr>\n  </thead>\n  <tbody>\n    <tr>\n      <th>0</th>\n      <td>70</td>\n      <td>5/26/2020</td>\n      <td>11:37:40 AM</td>\n      <td>CO</td>\n      <td>80403</td>\n      <td>1</td>\n      <td>35</td>\n      <td>3.0</td>\n      <td>1.0</td>\n      <td>2.0</td>\n      <td>...</td>\n      <td>15.0</td>\n      <td>3.0</td>\n      <td>3</td>\n      <td>4</td>\n      <td>6</td>\n      <td>4</td>\n      <td>4</td>\n      <td>NaN</td>\n      <td>2</td>\n      <td>-8</td>\n    </tr>\n    <tr>\n      <th>1</th>\n      <td>353</td>\n      <td>5/27/2020</td>\n      <td>12:33:08 PM</td>\n      <td>MI</td>\n      <td>48189</td>\n      <td>2</td>\n      <td>54</td>\n      <td>2.0</td>\n      <td>1.0</td>\n      <td>2.0</td>\n      <td>...</td>\n      <td>60.0</td>\n      <td>3.0</td>\n      <td>4</td>\n      <td>4</td>\n      <td>6</td>\n      <td>4</td>\n      <td>4</td>\n      <td>I go to hiking at a state park at least 3 time...</td>\n      <td>2</td>\n      <td>-8</td>\n    </tr>\n    <tr>\n      <th>2</th>\n      <td>24</td>\n      <td>5/8/2020</td>\n      <td>7:24:04 AM</td>\n      <td>CA</td>\n      <td>92127</td>\n      <td>2</td>\n      <td>35</td>\n      <td>5.0</td>\n      <td>3.0</td>\n      <td>3.0</td>\n      <td>...</td>\n      <td>15.0</td>\n      <td>3.0</td>\n      <td>3</td>\n      <td>2</td>\n      <td>6</td>\n      <td>4</td>\n      <td>1</td>\n      <td>NaN</td>\n      <td>2</td>\n      <td>-8</td>\n    </tr>\n    <tr>\n      <th>3</th>\n      <td>287</td>\n      <td>5/17/2020</td>\n      <td>4:27:42 PM</td>\n      <td>MD</td>\n      <td>21210</td>\n      <td>2</td>\n      <td>57</td>\n      <td>3.0</td>\n      <td>1.0</td>\n      <td>2.0</td>\n      <td>...</td>\n      <td>60.0</td>\n      <td>4.0</td>\n      <td>4</td>\n      <td>2</td>\n      <td>6</td>\n      <td>4</td>\n      <td>1</td>\n      <td>NaN</td>\n      <td>2</td>\n      <td>-8</td>\n    </tr>\n    <tr>\n      <th>4</th>\n      <td>256</td>\n      <td>5/8/2020</td>\n      <td>1:58:05 PM</td>\n      <td>MD</td>\n      <td>20781</td>\n      <td>2</td>\n      <td>24</td>\n      <td>3.0</td>\n      <td>0.0</td>\n      <td>3.0</td>\n      <td>...</td>\n      <td>20.0</td>\n      <td>2.0</td>\n      <td>2</td>\n      <td>3</td>\n      <td>6</td>\n      <td>4</td>\n      <td>1</td>\n      <td>NaN</td>\n      <td>2</td>\n      <td>2</td>\n    </tr>\n  </tbody>\n</table>\n<p>5 rows × 29 columns</p>\n</div>"
     },
     "metadata": {},
     "execution_count": 146
    }
   ],
   "source": [
    "bc_covid19 = pd.read_csv(\"covid_19.csv\")\n",
    "bc_covid19.head()"
   ]
  },
  {
   "cell_type": "code",
   "execution_count": 147,
   "metadata": {},
   "outputs": [],
   "source": [
    "bc_covid19 = bc_covid19.drop(columns=['PersonID', 'Time'])"
   ]
  },
  {
   "cell_type": "code",
   "execution_count": 148,
   "metadata": {},
   "outputs": [],
   "source": [
    "#Changing sex column\n",
    "for i in range(564):\n",
    "    if bc_covid19['Sex'][i] == 1:\n",
    "        bc_covid19[\"Sex\"][i] = \"Male\"\n",
    "    elif bc_covid19['Sex'][i] == 2:\n",
    "        bc_covid19[\"Sex\"][i] = \"Female\"\n",
    "    else:\n",
    "         bc_covid19[\"Sex\"][i] = \"Non-Binary\"\n",
    "# for i in range(10):\n",
    "#     print(df['Sex'][i])"
   ]
  },
  {
   "cell_type": "code",
   "execution_count": 149,
   "metadata": {},
   "outputs": [],
   "source": [
    "#changing married column\n",
    "for i in range(564):\n",
    "    if bc_covid19['Married'][i] == 1:\n",
    "        bc_covid19[\"Married\"][i] = \"Single\"\n",
    "    elif bc_covid19['Married'][i] == 2:\n",
    "        bc_covid19[\"Married\"][i] = \"Married\"\n",
    "    elif bc_covid19['Married'][i] == 3:\n",
    "        bc_covid19[\"Married\"][i] = \"Divorded/Separeted\"\n",
    "    else:\n",
    "         bc_covid19[\"Married\"][i] = \"Prefer not to answer\""
   ]
  },
  {
   "cell_type": "code",
   "execution_count": 150,
   "metadata": {},
   "outputs": [],
   "source": [
    "#changing education column\n",
    "for i in range(564):\n",
    "    if bc_covid19['Educ'][i] == 1:\n",
    "        bc_covid19[\"Educ\"][i] = \"LESS THAN HIGH SCHOOL\"\n",
    "    elif bc_covid19['Educ'][i] == 2:\n",
    "        bc_covid19[\"Educ\"][i] = \"HIGH SCHOOL GRAD\"\n",
    "    elif bc_covid19['Educ'][i] == 3:\n",
    "        bc_covid19[\"Educ\"][i] = \"SOME COLLEGE, OR AA\"\n",
    "    elif bc_covid19['Educ'][i] == 4:\n",
    "        bc_covid19[\"Educ\"][i] = \"GRADUATE OR PROFESSIONAL DEGREE\"\n",
    "    else:\n",
    "         bc_covid19[\"Educ\"][i] = \"Prefer not to answer\""
   ]
  },
  {
   "cell_type": "code",
   "execution_count": 165,
   "metadata": {},
   "outputs": [],
   "source": [
    "#changing htype column\n",
    "#bc_covid19['HType'].replace({1:\"Single-Family House\", 2:\"Multi-Family House\", 3: \"Condo/townhouse\", 4:\"Apartment\", 5:\"Other\"})\n",
    "\n",
    "for i in range(564):\n",
    "    if bc_covid19['HType'][i] == 1:\n",
    "        bc_covid19[\"HType\"][i] = \"Single-Family House\"\n",
    "    elif bc_covid19['HType'][i] == 2:\n",
    "        bc_covid19[\"HType\"][i] = \"Multi-Family House\"\n",
    "    elif bc_covid19['HType'][i] == 3:\n",
    "        bc_covid19[\"HType\"][i] = \"Condo/townhouse\"\n",
    "    elif bc_covid19['HType'][i] == 4:\n",
    "        bc_covid19[\"HType\"][i] = \"Apartment\"\n",
    "    else:\n",
    "         bc_covid19[\"HType\"][i] = \"Other\""
   ]
  },
  {
   "cell_type": "code",
   "execution_count": 178,
   "metadata": {},
   "outputs": [],
   "source": [
    "#changing worker column\n",
    "bc_covid19.rename(columns={\"Worker \": \"Worker\"}, inplace = True)\n",
    "bc_covid19['Worker'].replace({1:\"Employed Full Time\", 2:\"Employed Part Time\", 3: \"Unemployed\", 4:\"Retired\"}, inplace = True)"
   ]
  },
  {
   "cell_type": "code",
   "execution_count": 182,
   "metadata": {},
   "outputs": [],
   "source": [
    "#changing commute before column\n",
    "bc_covid19['commute_before'].replace({1:\"Commute Everyday\", 2:\"Tele-Worked Every Day\", 3: \"Partial Commute/teleworked\", 4:\"Not Employed/NA\"}, inplace = True)"
   ]
  },
  {
   "cell_type": "code",
   "execution_count": 184,
   "metadata": {},
   "outputs": [],
   "source": [
    "#changing commute after column\n",
    "bc_covid19['commute_after'].replace({1:\"Did not change/still commute\", 2:\"Did not change/still tele-work\", 3: \"Switched to partial commute to work/tele-work\",\n",
    " 4:\"Switched to work from home without change in the workload\", 5: \"Switched to work from home with reduced workload\", 6: \"Switched to work from home with increased workload\",\n",
    " 7: \"Stayed at home and not able to work\", 8: \"Not Employed/NA\"}, inplace = True)"
   ]
  },
  {
   "cell_type": "code",
   "execution_count": 188,
   "metadata": {},
   "outputs": [],
   "source": [
    "#changing transmode before column\n",
    "bc_covid19['Transmode_before'].replace({1:\"Auto/driving\", 2:\"Auto/Passenger\", 3: \"Public Transit\",\n",
    " 4:\"Walk\", 5: \"Bike/Bikeshare\", 6: \"Rideshare (including Uber and Lift)\",\n",
    " 7: \"Other\", 8: \"NA/Teleworked\"}, inplace = True)"
   ]
  },
  {
   "cell_type": "code",
   "execution_count": 201,
   "metadata": {},
   "outputs": [],
   "source": [
    "#changing changemode column\n",
    "bc_covid19.rename(columns={\"changemode\": \"Change_trans_mode\"}, inplace = True)\n",
    "\n",
    "bc_covid19['Change_trans_mode'].replace({1:\"Yes\", 2:\"No\", -8: \"NA\"}, inplace = True)"
   ]
  },
  {
   "cell_type": "code",
   "execution_count": 211,
   "metadata": {},
   "outputs": [],
   "source": [
    "#changing transmode after column\n",
    "bc_covid19['Transmode_after'].replace({1:\"Auto/driving\", 2:\"Auto/Passenger\", 3: \"Public Transit\",\n",
    " 4:\"Walk\", 5: \"Bike/Bikeshare\", 6: \"Rideshare (including Uber and Lift)\",\n",
    " 7: \"Other\", -8: \"NA/Teleworked\"}, inplace = True)"
   ]
  },
  {
   "cell_type": "code",
   "execution_count": 217,
   "metadata": {},
   "outputs": [],
   "source": [
    "#changing PhyAc_Before column\n",
    "bc_covid19['PhyAc_Before'].replace({1:\"0-15 min\", 2:\"15-30 min\", 3: \"30-60 min\",\n",
    " 4:\"60+ min\"}, inplace = True)\n"
   ]
  },
  {
   "cell_type": "code",
   "execution_count": 223,
   "metadata": {},
   "outputs": [],
   "source": [
    "#changing Exe_Before column\n",
    "bc_covid19['Exe_Before'].replace({1:\"None\", 2:\"1-2 times/week\", 3: \"3-4 times/week\",\n",
    " 4:\"5+ times/week\"}, inplace = True)"
   ]
  },
  {
   "cell_type": "code",
   "execution_count": 225,
   "metadata": {},
   "outputs": [],
   "source": [
    "#changing PhyAc_After cloumn\n",
    "bc_covid19['PhyAc_After'].replace({1:\"None\", 2:\"1-2 times/week\", 3: \"3-4 times/week\",\n",
    " 4:\"5+ times/week\"}, inplace = True)"
   ]
  },
  {
   "cell_type": "code",
   "execution_count": 229,
   "metadata": {},
   "outputs": [],
   "source": [
    "#changing Exe_After\n",
    "bc_covid19['Exe_After'].replace({1:\"None\", 2:\"5-30 min/day\", 3: \"30+ min/day\",\n",
    " 4:\"5-30 min/1-3days/wk\", 5: \"5-30 min/3-5days/wk\", 6: \"30+ min/1-3days/wk\",\n",
    " 7: \"30+ min/3-5days/wk\"}, inplace = True)"
   ]
  },
  {
   "cell_type": "code",
   "execution_count": 233,
   "metadata": {},
   "outputs": [],
   "source": [
    "#change Groc_Shp column\n",
    "bc_covid19['Groc_Shp'].replace({1: \"None- All Online\",2:\"Once/Mth\", 3:\"Twice/Mth\", 4: \"3 times/Mth\",\n",
    " 5:\"4+ times/Mth\"}, inplace = True)"
   ]
  },
  {
   "cell_type": "code",
   "execution_count": 239,
   "metadata": {},
   "outputs": [],
   "source": [
    "#change Outside_Ac\n",
    "bc_covid19['Outside_Ac'].replace({1: \"None\",2:\"Once\", 3:\"Twice\", 4: \"3+\"}, inplace = True)"
   ]
  },
  {
   "cell_type": "code",
   "execution_count": 247,
   "metadata": {},
   "outputs": [],
   "source": [
    "#changing ONL_SHP\n",
    "bc_covid19['ONL_SHP'].replace({1: \"Yes\",2:\"No\", 3:\"Not Applicable\"}, inplace = True)"
   ]
  },
  {
   "cell_type": "code",
   "execution_count": 253,
   "metadata": {},
   "outputs": [],
   "source": [
    "#chaning ONL_SHP_AFTR\n",
    "bc_covid19['ONL_SHP_AFTR'].replace({1: \"Yes\",2:\"No\", 3:\"Maybe\", -8: \"Not Applicable\"}, inplace = True)"
   ]
  },
  {
   "cell_type": "code",
   "execution_count": 255,
   "metadata": {},
   "outputs": [
    {
     "output_type": "execute_result",
     "data": {
      "text/plain": [
       "0      Not Applicable\n",
       "1      Not Applicable\n",
       "2      Not Applicable\n",
       "3      Not Applicable\n",
       "4                  No\n",
       "            ...      \n",
       "559    Not Applicable\n",
       "560             Maybe\n",
       "561             Maybe\n",
       "562                No\n",
       "563                No\n",
       "Name: ONL_SHP_AFTR, Length: 564, dtype: object"
      ]
     },
     "metadata": {},
     "execution_count": 255
    }
   ],
   "source": [
    "bc_covid19['ONL_SHP_AFTR']\n",
    "#bc_covid19.tail()"
   ]
  },
  {
   "cell_type": "code",
   "execution_count": 264,
   "metadata": {},
   "outputs": [],
   "source": [
    "for i in range(564):\n",
    "    if bc_covid19['Age'][i] == '1/21/1930':\n",
    "       bc_covid19['Age'][i] = '91'"
   ]
  },
  {
   "cell_type": "code",
   "execution_count": 271,
   "metadata": {},
   "outputs": [],
   "source": [
    "for i in range(564):\n",
    "    if bc_covid19['Age'][i] == '30+':\n",
    "       bc_covid19['Age'][i] = '30'\n",
    "    elif bc_covid19['Age'][i] == '711':\n",
    "        bc_covid19['Age'][i] = '71'"
   ]
  },
  {
   "cell_type": "code",
   "execution_count": 273,
   "metadata": {},
   "outputs": [],
   "source": [
    "for i in range(564):\n",
    "    if bc_covid19['Age'][i] == '30+':\n",
    "        print(i)\n",
    "    elif bc_covid19['Age'][i] == '711':\n",
    "        print(i)"
   ]
  },
  {
   "cell_type": "code",
   "execution_count": 270,
   "metadata": {},
   "outputs": [
    {
     "output_type": "execute_result",
     "data": {
      "text/plain": [
       "          Date HHState Zipcode     Sex Age  HHsize  Kids  Auto_own  \\\n",
       "0    5/26/2020      CO   80403    Male  35     3.0   1.0       2.0   \n",
       "1    5/27/2020      MI   48189  Female  54     2.0   1.0       2.0   \n",
       "2     5/8/2020      CA   92127  Female  35     5.0   3.0       3.0   \n",
       "3    5/17/2020      MD   21210  Female  57     3.0   1.0       2.0   \n",
       "4     5/8/2020      MD   20781  Female  24     3.0   0.0       3.0   \n",
       "..         ...     ...     ...     ...  ..     ...   ...       ...   \n",
       "559  5/26/2020      WA   98502  Female  53     1.0   0.0       1.0   \n",
       "560  4/22/2020      WA   98115  Female  44     4.0   2.0       2.0   \n",
       "561  4/11/2020      MD   20782  Female  30     2.0   0.0       1.0   \n",
       "562   7/1/2020      MD   20853  Female  32     2.0   0.0       2.0   \n",
       "563  5/30/2020      MD   21202  Female  27     1.0   0.0       0.0   \n",
       "\n",
       "                  Married                             Educ  ... PhyAc_Before  \\\n",
       "0                 Married  GRADUATE OR PROFESSIONAL DEGREE  ...    30-60 min   \n",
       "1    Prefer not to answer  GRADUATE OR PROFESSIONAL DEGREE  ...    30-60 min   \n",
       "2                 Married              SOME COLLEGE, OR AA  ...    30-60 min   \n",
       "3      Divorded/Separeted  GRADUATE OR PROFESSIONAL DEGREE  ...      60+ min   \n",
       "4                  Single              SOME COLLEGE, OR AA  ...    15-30 min   \n",
       "..                    ...                              ...  ...          ...   \n",
       "559                Single  GRADUATE OR PROFESSIONAL DEGREE  ...    15-30 min   \n",
       "560               Married              SOME COLLEGE, OR AA  ...      60+ min   \n",
       "561               Married  GRADUATE OR PROFESSIONAL DEGREE  ...    30-60 min   \n",
       "562               Married  GRADUATE OR PROFESSIONAL DEGREE  ...    30-60 min   \n",
       "563                Single              SOME COLLEGE, OR AA  ...      60+ min   \n",
       "\n",
       "         Exe_Before     PhyAc_After           Exe_After     Groc_Shp  \\\n",
       "0    3-4 times/week   5+ times/week  30+ min/1-3days/wk  3 times/Mth   \n",
       "1     5+ times/week   5+ times/week  30+ min/1-3days/wk  3 times/Mth   \n",
       "2    3-4 times/week  1-2 times/week  30+ min/1-3days/wk  3 times/Mth   \n",
       "3     5+ times/week  1-2 times/week  30+ min/1-3days/wk  3 times/Mth   \n",
       "4    1-2 times/week  3-4 times/week  30+ min/1-3days/wk  3 times/Mth   \n",
       "..              ...             ...                 ...          ...   \n",
       "559  1-2 times/week  3-4 times/week                None    Twice/Mth   \n",
       "560  3-4 times/week  3-4 times/week                None    Twice/Mth   \n",
       "561            None  3-4 times/week                None    Twice/Mth   \n",
       "562  3-4 times/week   5+ times/week                None    Twice/Mth   \n",
       "563   5+ times/week   5+ times/week                None    Twice/Mth   \n",
       "\n",
       "    Outside_Ac                                       Outside_Purp  ONL_SHP  \\\n",
       "0           3+                                                NaN       No   \n",
       "1           3+  I go to hiking at a state park at least 3 time...       No   \n",
       "2         None                                                NaN       No   \n",
       "3         None                                                NaN       No   \n",
       "4         None                                                NaN       No   \n",
       "..         ...                                                ...      ...   \n",
       "559      Twice  meet one friend for social distance walk at ne...       No   \n",
       "560      Twice                      Home Depot for home projects       Yes   \n",
       "561      Twice                           Emergency and see friend      Yes   \n",
       "562      Twice  Visiting family, going for a drive so my car b...      Yes   \n",
       "563      Twice  Bought hardware for home project and visited a...       No   \n",
       "\n",
       "       ONL_SHP_AFTR  Htype  \n",
       "0    Not Applicable  Other  \n",
       "1    Not Applicable  Other  \n",
       "2    Not Applicable  Other  \n",
       "3    Not Applicable  Other  \n",
       "4                No  Other  \n",
       "..              ...    ...  \n",
       "559  Not Applicable  Other  \n",
       "560           Maybe  Other  \n",
       "561           Maybe  Other  \n",
       "562              No  Other  \n",
       "563              No  Other  \n",
       "\n",
       "[564 rows x 28 columns]"
      ],
      "text/html": "<div>\n<style scoped>\n    .dataframe tbody tr th:only-of-type {\n        vertical-align: middle;\n    }\n\n    .dataframe tbody tr th {\n        vertical-align: top;\n    }\n\n    .dataframe thead th {\n        text-align: right;\n    }\n</style>\n<table border=\"1\" class=\"dataframe\">\n  <thead>\n    <tr style=\"text-align: right;\">\n      <th></th>\n      <th>Date</th>\n      <th>HHState</th>\n      <th>Zipcode</th>\n      <th>Sex</th>\n      <th>Age</th>\n      <th>HHsize</th>\n      <th>Kids</th>\n      <th>Auto_own</th>\n      <th>Married</th>\n      <th>Educ</th>\n      <th>...</th>\n      <th>PhyAc_Before</th>\n      <th>Exe_Before</th>\n      <th>PhyAc_After</th>\n      <th>Exe_After</th>\n      <th>Groc_Shp</th>\n      <th>Outside_Ac</th>\n      <th>Outside_Purp</th>\n      <th>ONL_SHP</th>\n      <th>ONL_SHP_AFTR</th>\n      <th>Htype</th>\n    </tr>\n  </thead>\n  <tbody>\n    <tr>\n      <th>0</th>\n      <td>5/26/2020</td>\n      <td>CO</td>\n      <td>80403</td>\n      <td>Male</td>\n      <td>35</td>\n      <td>3.0</td>\n      <td>1.0</td>\n      <td>2.0</td>\n      <td>Married</td>\n      <td>GRADUATE OR PROFESSIONAL DEGREE</td>\n      <td>...</td>\n      <td>30-60 min</td>\n      <td>3-4 times/week</td>\n      <td>5+ times/week</td>\n      <td>30+ min/1-3days/wk</td>\n      <td>3 times/Mth</td>\n      <td>3+</td>\n      <td>NaN</td>\n      <td>No</td>\n      <td>Not Applicable</td>\n      <td>Other</td>\n    </tr>\n    <tr>\n      <th>1</th>\n      <td>5/27/2020</td>\n      <td>MI</td>\n      <td>48189</td>\n      <td>Female</td>\n      <td>54</td>\n      <td>2.0</td>\n      <td>1.0</td>\n      <td>2.0</td>\n      <td>Prefer not to answer</td>\n      <td>GRADUATE OR PROFESSIONAL DEGREE</td>\n      <td>...</td>\n      <td>30-60 min</td>\n      <td>5+ times/week</td>\n      <td>5+ times/week</td>\n      <td>30+ min/1-3days/wk</td>\n      <td>3 times/Mth</td>\n      <td>3+</td>\n      <td>I go to hiking at a state park at least 3 time...</td>\n      <td>No</td>\n      <td>Not Applicable</td>\n      <td>Other</td>\n    </tr>\n    <tr>\n      <th>2</th>\n      <td>5/8/2020</td>\n      <td>CA</td>\n      <td>92127</td>\n      <td>Female</td>\n      <td>35</td>\n      <td>5.0</td>\n      <td>3.0</td>\n      <td>3.0</td>\n      <td>Married</td>\n      <td>SOME COLLEGE, OR AA</td>\n      <td>...</td>\n      <td>30-60 min</td>\n      <td>3-4 times/week</td>\n      <td>1-2 times/week</td>\n      <td>30+ min/1-3days/wk</td>\n      <td>3 times/Mth</td>\n      <td>None</td>\n      <td>NaN</td>\n      <td>No</td>\n      <td>Not Applicable</td>\n      <td>Other</td>\n    </tr>\n    <tr>\n      <th>3</th>\n      <td>5/17/2020</td>\n      <td>MD</td>\n      <td>21210</td>\n      <td>Female</td>\n      <td>57</td>\n      <td>3.0</td>\n      <td>1.0</td>\n      <td>2.0</td>\n      <td>Divorded/Separeted</td>\n      <td>GRADUATE OR PROFESSIONAL DEGREE</td>\n      <td>...</td>\n      <td>60+ min</td>\n      <td>5+ times/week</td>\n      <td>1-2 times/week</td>\n      <td>30+ min/1-3days/wk</td>\n      <td>3 times/Mth</td>\n      <td>None</td>\n      <td>NaN</td>\n      <td>No</td>\n      <td>Not Applicable</td>\n      <td>Other</td>\n    </tr>\n    <tr>\n      <th>4</th>\n      <td>5/8/2020</td>\n      <td>MD</td>\n      <td>20781</td>\n      <td>Female</td>\n      <td>24</td>\n      <td>3.0</td>\n      <td>0.0</td>\n      <td>3.0</td>\n      <td>Single</td>\n      <td>SOME COLLEGE, OR AA</td>\n      <td>...</td>\n      <td>15-30 min</td>\n      <td>1-2 times/week</td>\n      <td>3-4 times/week</td>\n      <td>30+ min/1-3days/wk</td>\n      <td>3 times/Mth</td>\n      <td>None</td>\n      <td>NaN</td>\n      <td>No</td>\n      <td>No</td>\n      <td>Other</td>\n    </tr>\n    <tr>\n      <th>...</th>\n      <td>...</td>\n      <td>...</td>\n      <td>...</td>\n      <td>...</td>\n      <td>...</td>\n      <td>...</td>\n      <td>...</td>\n      <td>...</td>\n      <td>...</td>\n      <td>...</td>\n      <td>...</td>\n      <td>...</td>\n      <td>...</td>\n      <td>...</td>\n      <td>...</td>\n      <td>...</td>\n      <td>...</td>\n      <td>...</td>\n      <td>...</td>\n      <td>...</td>\n      <td>...</td>\n    </tr>\n    <tr>\n      <th>559</th>\n      <td>5/26/2020</td>\n      <td>WA</td>\n      <td>98502</td>\n      <td>Female</td>\n      <td>53</td>\n      <td>1.0</td>\n      <td>0.0</td>\n      <td>1.0</td>\n      <td>Single</td>\n      <td>GRADUATE OR PROFESSIONAL DEGREE</td>\n      <td>...</td>\n      <td>15-30 min</td>\n      <td>1-2 times/week</td>\n      <td>3-4 times/week</td>\n      <td>None</td>\n      <td>Twice/Mth</td>\n      <td>Twice</td>\n      <td>meet one friend for social distance walk at ne...</td>\n      <td>No</td>\n      <td>Not Applicable</td>\n      <td>Other</td>\n    </tr>\n    <tr>\n      <th>560</th>\n      <td>4/22/2020</td>\n      <td>WA</td>\n      <td>98115</td>\n      <td>Female</td>\n      <td>44</td>\n      <td>4.0</td>\n      <td>2.0</td>\n      <td>2.0</td>\n      <td>Married</td>\n      <td>SOME COLLEGE, OR AA</td>\n      <td>...</td>\n      <td>60+ min</td>\n      <td>3-4 times/week</td>\n      <td>3-4 times/week</td>\n      <td>None</td>\n      <td>Twice/Mth</td>\n      <td>Twice</td>\n      <td>Home Depot for home projects</td>\n      <td>Yes</td>\n      <td>Maybe</td>\n      <td>Other</td>\n    </tr>\n    <tr>\n      <th>561</th>\n      <td>4/11/2020</td>\n      <td>MD</td>\n      <td>20782</td>\n      <td>Female</td>\n      <td>30</td>\n      <td>2.0</td>\n      <td>0.0</td>\n      <td>1.0</td>\n      <td>Married</td>\n      <td>GRADUATE OR PROFESSIONAL DEGREE</td>\n      <td>...</td>\n      <td>30-60 min</td>\n      <td>None</td>\n      <td>3-4 times/week</td>\n      <td>None</td>\n      <td>Twice/Mth</td>\n      <td>Twice</td>\n      <td>Emergency and see friend</td>\n      <td>Yes</td>\n      <td>Maybe</td>\n      <td>Other</td>\n    </tr>\n    <tr>\n      <th>562</th>\n      <td>7/1/2020</td>\n      <td>MD</td>\n      <td>20853</td>\n      <td>Female</td>\n      <td>32</td>\n      <td>2.0</td>\n      <td>0.0</td>\n      <td>2.0</td>\n      <td>Married</td>\n      <td>GRADUATE OR PROFESSIONAL DEGREE</td>\n      <td>...</td>\n      <td>30-60 min</td>\n      <td>3-4 times/week</td>\n      <td>5+ times/week</td>\n      <td>None</td>\n      <td>Twice/Mth</td>\n      <td>Twice</td>\n      <td>Visiting family, going for a drive so my car b...</td>\n      <td>Yes</td>\n      <td>No</td>\n      <td>Other</td>\n    </tr>\n    <tr>\n      <th>563</th>\n      <td>5/30/2020</td>\n      <td>MD</td>\n      <td>21202</td>\n      <td>Female</td>\n      <td>27</td>\n      <td>1.0</td>\n      <td>0.0</td>\n      <td>0.0</td>\n      <td>Single</td>\n      <td>SOME COLLEGE, OR AA</td>\n      <td>...</td>\n      <td>60+ min</td>\n      <td>5+ times/week</td>\n      <td>5+ times/week</td>\n      <td>None</td>\n      <td>Twice/Mth</td>\n      <td>Twice</td>\n      <td>Bought hardware for home project and visited a...</td>\n      <td>No</td>\n      <td>No</td>\n      <td>Other</td>\n    </tr>\n  </tbody>\n</table>\n<p>564 rows × 28 columns</p>\n</div>"
     },
     "metadata": {},
     "execution_count": 270
    }
   ],
   "source": [
    "bc_covid19"
   ]
  },
  {
   "cell_type": "code",
   "execution_count": null,
   "metadata": {},
   "outputs": [],
   "source": []
  }
 ]
}